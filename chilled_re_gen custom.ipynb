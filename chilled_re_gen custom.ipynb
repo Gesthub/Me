{
  "cells": [
    {
      "cell_type": "markdown",
      "metadata": {
        "id": "view-in-github",
        "colab_type": "text"
      },
      "source": [
        "<a href=\"https://colab.research.google.com/github/Gesthub/Me/blob/main/chilled_re_gen%20custom.ipynb\" target=\"_parent\"><img src=\"https://colab.research.google.com/assets/colab-badge.svg\" alt=\"Open In Colab\"/></a>"
      ]
    },
    {
      "cell_type": "markdown",
      "source": [
        "# 1. Run the cell below and play the music player to keep the Colab's tab alive"
      ],
      "metadata": {
        "id": "cl_vAnC1ULpF"
      }
    },
    {
      "cell_type": "code",
      "source": [
        "%%html\n",
        "<b>Press play on the music player(Uses only 13MB of data)</b><br/>\n",
        "<audio src=\"https://henk.tech/colabkobold/silence.m4a\" controls>"
      ],
      "metadata": {
        "id": "XAYaLRprRiOD"
      },
      "execution_count": null,
      "outputs": []
    },
    {
      "cell_type": "markdown",
      "source": [
        "# 2. While the music player playing, run the setup"
      ],
      "metadata": {
        "id": "rM7pqlq1UUus"
      }
    },
    {
      "cell_type": "code",
      "execution_count": null,
      "metadata": {
        "id": "sBbcB4vwj_jm"
      },
      "outputs": [],
      "source": [
        "!curl -Lo memfix.zip https://github.com/nolanaatama/sd-webui/raw/main/memfix.zip\n",
        "!unzip /content/memfix.zip\n",
        "!apt install -qq libunwind8-dev\n",
        "!dpkg -i *.deb\n",
        "%env LD_PRELOAD=libtcmalloc.so\n",
        "!rm *\n",
        "!pip install --upgrade fastapi==0.90.1\n",
        "!pip install torch==1.13.1+cu116 torchvision==0.14.1+cu116 torchaudio==0.13.1 torchtext==0.14.1 torchdata==0.5.1 --extra-index-url https://download.pytorch.org/whl/cu116 -U\n",
        "!git clone https://github.com/AUTOMATIC1111/stable-diffusion-webui\n",
        "!git clone https://github.com/nolanaatama/sd-webui-tunnels /content/stable-diffusion-webui/extensions/sd-webui-tunnels\n",
        "!git clone https://github.com/Mikubill/sd-webui-controlnet /content/stable-diffusion-webui/extensions/sd-webui-controlnet\n",
        "!git clone https://github.com/hnmr293/posex /content/stable-diffusion-webui/extensions/posex\n",
        "!git clone https://github.com/yfszzx/stable-diffusion-webui-images-browser /content/stable-diffusion-webui/extensions/stable-diffusion-webui-images-browser\n",
        "# Model Code\n",
        "!curl -Lo /content/stable-diffusion-webui/models/Stable-diffusion/chilloutmixni.safetensors https://huggingface.co/nolanaatama/chomni/resolve/main/chomni.safetensors\n",
        "!curl -Lo /content/stable-diffusion-webui/models/Stable-diffusion/qgo10b.safetensors https://huggingface.co/nolanaatama/qgo10b/resolve/main/qgo10b.safetensors\n",
        "!curl -Lo /content/stable-diffusion-webui/models/Stable-diffusion/chilled_re-generic.safetensors https://huggingface.co/nolanaatama/chlldrgnrc/resolve/main/chilled_re-generic.safetensors\n",
        "!curl -Lo /content/stable-diffusion-webui/models/Stable-diffusion/dreamlikesamkuvshinov.safetensors https://huggingface.co/nolanaatama/dsk/resolve/main/dsk.safetensors\n",
        "# ControlNet\n",
        "!curl -Lo /content/stable-diffusion-webui/extensions/sd-webui-controlnet/models/control_canny.safetensors https://huggingface.co/webui/ControlNet-modules-safetensors/resolve/main/control_canny-fp16.safetensors\n",
        "!curl -Lo /content/stable-diffusion-webui/extensions/sd-webui-controlnet/models/control_depth.safetensors https://huggingface.co/webui/ControlNet-modules-safetensors/resolve/main/control_depth-fp16.safetensors\n",
        "!curl -Lo /content/stable-diffusion-webui/extensions/sd-webui-controlnet/models/control_hed-fp16.safetensors https://huggingface.co/webui/ControlNet-modules-safetensors/resolve/main/control_hed-fp16.safetensors\n",
        "!curl -Lo /content/stable-diffusion-webui/extensions/sd-webui-controlnet/models/control_mlsd-fp16.safetensors https://huggingface.co/webui/ControlNet-modules-safetensors/resolve/main/control_mlsd-fp16.safetensors\n",
        "!curl -Lo /content/stable-diffusion-webui/extensions/sd-webui-controlnet/models/control_normal-fp16.safetensors https://huggingface.co/webui/ControlNet-modules-safetensors/resolve/main/control_normal-fp16.safetensors\n",
        "!curl -Lo /content/stable-diffusion-webui/extensions/sd-webui-controlnet/models/control_openpose-fp16.safetensors https://huggingface.co/webui/ControlNet-modules-safetensors/resolve/main/control_openpose-fp16.safetensors\n",
        "!curl -Lo /content/stable-diffusion-webui/extensions/sd-webui-controlnet/models/control_scribble-fp16.safetensors https://huggingface.co/webui/ControlNet-modules-safetensors/resolve/main/control_scribble-fp16.safetensors\n",
        "!curl -Lo /content/stable-diffusion-webui/extensions/sd-webui-controlnet/models/control_seg-fp16.safetensors https://huggingface.co/webui/ControlNet-modules-safetensors/resolve/main/control_seg-fp16.safetensors\n",
        "!curl -Lo /content/stable-diffusion-webui/extensions/sd-webui-controlnet/models/t2iadapter_canny_sd14v1.pth https://huggingface.co/TencentARC/T2I-Adapter/resolve/main/models/t2iadapter_canny_sd14v1.pth\n",
        "!curl -Lo /content/stable-diffusion-webui/extensions/sd-webui-controlnet/models/t2iadapter_color_sd14v1.pth https://huggingface.co/TencentARC/T2I-Adapter/resolve/main/models/t2iadapter_color_sd14v1.pth\n",
        "!curl -Lo /content/stable-diffusion-webui/extensions/sd-webui-controlnet/models/t2iadapter_depth_sd14v1.pth https://huggingface.co/TencentARC/T2I-Adapter/resolve/main/models/t2iadapter_depth_sd14v1.pth\n",
        "!curl -Lo /content/stable-diffusion-webui/extensions/sd-webui-controlnet/models/t2iadapter_keypose_sd14v1.pth https://huggingface.co/TencentARC/T2I-Adapter/resolve/main/models/t2iadapter_keypose_sd14v1.pth\n",
        "!curl -Lo /content/stable-diffusion-webui/extensions/sd-webui-controlnet/models/t2iadapter_openpose_sd14v1.pth https://huggingface.co/TencentARC/T2I-Adapter/resolve/main/models/t2iadapter_openpose_sd14v1.pth\n",
        "!curl -Lo /content/stable-diffusion-webui/extensions/sd-webui-controlnet/models/t2iadapter_seg_sd14v1.pth https://huggingface.co/TencentARC/T2I-Adapter/resolve/main/models/t2iadapter_seg_sd14v1.pth\n",
        "!curl -Lo /content/stable-diffusion-webui/extensions/sd-webui-controlnet/models/t2iadapter_sketch_sd14v1.pth https://huggingface.co/TencentARC/T2I-Adapter/resolve/main/models/t2iadapter_sketch_sd14v1.pth\n",
        "!curl -Lo /content/stable-diffusion-webui/extensions/sd-webui-controlnet/models/t2iadapter_style_sd14v1.pth https://huggingface.co/TencentARC/T2I-Adapter/resolve/main/models/t2iadapter_style_sd14v1.pth\n",
        "import shutil\n",
        "shutil.rmtree('/content/stable-diffusion-webui/embeddings')\n",
        "%cd /content/stable-diffusion-webui\n",
        "!git checkout 0cc0ee1\n",
        "!git clone https://huggingface.co/nolanaatama/embeddings\n",
        "%cd /content/stable-diffusion-webui/models\n",
        "!git clone https://huggingface.co/nolanaatama/ESRGAN\n",
        "%cd /content/stable-diffusion-webui\n",
        "# Web UI tunnel\n",
        "!COMMANDLINE_ARGS=\"--share --disable-safe-unpickle --no-half-vae --xformers --reinstall-xformers --enable-insecure-extension- --gradio-queue --remotemoe\" REQS_FILE=\"requirements.txt\" python launch.py\n",
        "# If remotemoe failed to start, change '--remotemoe' to '--cloudflared' on the COMMANDLINE_ARGS line above to use cloudflare tunnel"
      ]
    },
    {
      "cell_type": "markdown",
      "source": [
        "## (OPTIONAL) LoRAs"
      ],
      "metadata": {
        "id": "0DwYF_aLUXKy"
      }
    },
    {
      "cell_type": "markdown",
      "source": [
        "### 1. After the gradio link show up, stop the first cell & clear the code output👆"
      ],
      "metadata": {
        "id": "JUtPlg328avv"
      }
    },
    {
      "cell_type": "markdown",
      "source": [
        "### 2. Load the LoRA & launch the web ui"
      ],
      "metadata": {
        "id": "xy_WyDzNUgd2"
      }
    },
    {
      "cell_type": "code",
      "source": [
        "# Copy the LoRA code from other LoRA setup (download the setup file after editing the LoRA code cell to avoid repeat input for next session)\n",
        "# How-to download the setup file: Click 'File' menu -> 'Download' -> 'Download .ipynb'\n",
        "# Load LoRA from Google Drive: https://youtu.be/G1QZfAPUMaM\n",
        "\n",
        "# Japanese Doll Likeness\n",
        "!curl -Lo /content/stable-diffusion-webui/models/Lora/japaneseDollLikeness_v10.safetensors https://huggingface.co/nolanaatama/jdllora/resolve/main/jdllora.safetensors\n",
        "\n",
        "# Korean Doll Likeness\n",
        "!curl -Lo /content/stable-diffusion-webui/models/Lora/koreanDollLikeness_v15.safetensors https://huggingface.co/nolanaatama/kdllora/resolve/main/kdllorav15.safetensors\n",
        "\n",
        "# Taiwan Doll Likeness\n",
        "!curl -Lo /content/stable-diffusion-webui/models/Lora/taiwanDollLikeness_v10.safetensors https://huggingface.co/nolanaatama/tdllora/resolve/main/tdllora.safetensors\n",
        "\n",
        "# Cute Girl Mix4\n",
        "!curl -Lo /content/stable-diffusion-webui/models/Lora/mix4.safetensors https://huggingface.co/nolanaatama/ctgrlmx/resolve/main/ctgrlmx.safetensors\n",
        "\n",
        "# Fashion Girl\n",
        "!curl -Lo /content/stable-diffusion-webui/models/Lora/fashigirlv4.7.safetensors https://huggingface.co/nolanaatama/fshngrl/resolve/main/fshngrl.safetensors\n",
        "\n",
        "# Yurisa\n",
        "!curl -Lo /content/stable-diffusion-webui/models/Lora/yurisaLora_v40.safetensors https://civitai.com/api/download/models/30497\n",
        "\n",
        "# ...\n",
        "\n",
        "# Web UI tunnel\n",
        "!COMMANDLINE_ARGS=\"--share --disable-safe-unpickle --no-half-vae --xformers --reinstall-xformers --enable-insecure-extension- --gradio-queue --remotemoe\" REQS_FILE=\"requirements.txt\" python launch.py\n",
        "# If remotemoe failed to start, change '--remotemoe' to '--cloudflared' on the COMMANDLINE_ARGS line above to use cloudflare tunnel"
      ],
      "metadata": {
        "id": "3EOPSiOgUs4z",
        "colab": {
          "base_uri": "https://localhost:8080/"
        },
        "outputId": "7fa71448-30eb-440b-bc08-faaa1f81e5d2"
      },
      "execution_count": 1,
      "outputs": [
        {
          "output_type": "stream",
          "name": "stdout",
          "text": [
            "  % Total    % Received % Xferd  Average Speed   Time    Time     Time  Current\n",
            "                                 Dload  Upload   Total   Spent    Left  Speed\n",
            "100  1129  100  1129    0     0   4276      0 --:--:-- --:--:-- --:--:--  4276\n",
            "Warning: Failed to create the file \n",
            "Warning: /content/stable-diffusion-webui/models/Lora/japaneseDollLikeness_v10.s\n",
            "Warning: afetensors: No such file or directory\n",
            "  0  144M    0 15853    0     0  53921      0  0:46:42 --:--:--  0:46:42 53921\n",
            "curl: (23) Failed writing body (0 != 15853)\n",
            "  % Total    % Received % Xferd  Average Speed   Time    Time     Time  Current\n",
            "                                 Dload  Upload   Total   Spent    Left  Speed\n",
            "100  1135  100  1135    0     0   4690      0 --:--:-- --:--:-- --:--:--  4670\n",
            "Warning: Failed to create the file \n",
            "Warning: /content/stable-diffusion-webui/models/Lora/koreanDollLikeness_v15.saf\n",
            "Warning: etensors: No such file or directory\n",
            "  0  144M    0 15846    0     0  59348      0  0:42:26 --:--:--  0:42:26 59348\n",
            "curl: (23) Failed writing body (0 != 15846)\n",
            "  % Total    % Received % Xferd  Average Speed   Time    Time     Time  Current\n",
            "                                 Dload  Upload   Total   Spent    Left  Speed\n",
            "100  1133  100  1133    0     0   4340      0 --:--:-- --:--:-- --:--:--  4340\n",
            "Warning: Failed to create the file \n",
            "Warning: /content/stable-diffusion-webui/models/Lora/taiwanDollLikeness_v10.saf\n",
            "Warning: etensors: No such file or directory\n",
            "  0  144M    0 15852    0     0  55426      0  0:45:26 --:--:--  0:45:26 55426\n",
            "curl: (23) Failed writing body (0 != 15852)\n",
            "  % Total    % Received % Xferd  Average Speed   Time    Time     Time  Current\n",
            "                                 Dload  Upload   Total   Spent    Left  Speed\n",
            "100  1129  100  1129    0     0   4244      0 --:--:-- --:--:-- --:--:--  4244\n",
            "Warning: Failed to create the file \n",
            "Warning: /content/stable-diffusion-webui/models/Lora/mix4.safetensors: No such \n",
            "Warning: file or directory\n",
            "  0  144M    0 15853    0     0  55236      0  0:45:35 --:--:--  0:45:35 55236\n",
            "curl: (23) Failed writing body (0 != 15853)\n",
            "  % Total    % Received % Xferd  Average Speed   Time    Time     Time  Current\n",
            "                                 Dload  Upload   Total   Spent    Left  Speed\n",
            "100  1139  100  1139    0     0   4431      0 --:--:-- --:--:-- --:--:--  4414\n",
            "Warning: Failed to create the file \n",
            "Warning: /content/stable-diffusion-webui/models/Lora/fashigirlv4.7.safetensors:\n",
            "Warning:  No such file or directory\n",
            "  0  144M    0 15851    0     0  57017      0  0:44:10 --:--:--  0:44:10 57017\n",
            "curl: (23) Failed writing body (0 != 15851)\n",
            "  % Total    % Received % Xferd  Average Speed   Time    Time     Time  Current\n",
            "                                 Dload  Upload   Total   Spent    Left  Speed\n",
            "100   485    0   485    0     0   1224      0 --:--:-- --:--:-- --:--:--  1224\n",
            "  0  144M    0     0    0     0      0      0 --:--:--  0:00:01 --:--:--     0Warning: Failed to create the file \n",
            "Warning: /content/stable-diffusion-webui/models/Lora/yurisaLora_v40.safetensors\n",
            "Warning: : No such file or directory\n",
            "  0  144M    0  1369    0     0   1200      0 34:58:53  0:00:01 34:58:52 1336k\n",
            "curl: (23) Failed writing body (0 != 1369)\n",
            "python3: can't open file '/content/launch.py': [Errno 2] No such file or directory\n"
          ]
        }
      ]
    },
    {
      "cell_type": "markdown",
      "metadata": {
        "id": "fhwIXzcgfkoR"
      },
      "source": [
        "# 📚 GitHub for more: [_@nolanaatama_](https://github.com/nolanaatama)\n",
        "# 📦 Repo: [Github](https://github.com/nolanaatama/sd-1click-colab)"
      ]
    }
  ],
  "metadata": {
    "accelerator": "GPU",
    "colab": {
      "provenance": [],
      "include_colab_link": true
    },
    "gpuClass": "standard",
    "kernelspec": {
      "display_name": "Python 3",
      "name": "python3"
    },
    "language_info": {
      "name": "python"
    }
  },
  "nbformat": 4,
  "nbformat_minor": 0
}