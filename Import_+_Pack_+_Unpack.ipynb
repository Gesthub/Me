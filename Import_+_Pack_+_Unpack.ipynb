{
  "cells": [
    {
      "cell_type": "markdown",
      "metadata": {
        "id": "view-in-github",
        "colab_type": "text"
      },
      "source": [
        "<a href=\"https://colab.research.google.com/github/Gesthub/Me/blob/main/Import_%2B_Pack_%2B_Unpack.ipynb\" target=\"_parent\"><img src=\"https://colab.research.google.com/assets/colab-badge.svg\" alt=\"Open In Colab\"/></a>"
      ]
    },
    {
      "cell_type": "markdown",
      "metadata": {
        "id": "oqleLJPVkos0"
      },
      "source": [
        "Mount"
      ]
    },
    {
      "cell_type": "code",
      "execution_count": null,
      "metadata": {
        "colab": {
          "base_uri": "https://localhost:8080/"
        },
        "id": "HcHQjy7PLnEY",
        "outputId": "31899c4f-a052-48ff-fe11-66476d5d6ff5"
      },
      "outputs": [
        {
          "output_type": "stream",
          "name": "stdout",
          "text": [
            "Mounted at /content/drive\n"
          ]
        }
      ],
      "source": [
        "from google.colab import drive\n",
        "drive.mount('/content/drive')"
      ]
    },
    {
      "cell_type": "markdown",
      "metadata": {
        "id": "84vtigTjks-C"
      },
      "source": [
        "Download"
      ]
    },
    {
      "cell_type": "code",
      "execution_count": null,
      "metadata": {
        "id": "vqIGGtA94oDm"
      },
      "outputs": [],
      "source": [
        "!mkdir /content/root"
      ]
    },
    {
      "cell_type": "code",
      "execution_count": null,
      "metadata": {
        "id": "TYk6ow4j4hWI"
      },
      "outputs": [],
      "source": [
        "!curl -Lo /content/name.ext http_url"
      ]
    },
    {
      "cell_type": "code",
      "execution_count": null,
      "metadata": {
        "id": "zz01z02ApPGQ"
      },
      "outputs": [],
      "source": [
        "#\n",
        "\n",
        "!curl -Lo /content/root/Gleb/Lighting_gle.rar https://fs1.mediafile.cc/7974f95ff38d9ad1/Gumroad_Cinematic_Lighting_in_Blender_by_Gleb_Alexandrov.7z.rar?download_token=a0fa18619e5ca65412919169be28aa7151d3be4b047f40197ab108d56d594bde\n",
        "\n",
        "#"
      ]
    },
    {
      "cell_type": "code",
      "execution_count": null,
      "metadata": {
        "id": "Gt49hSQQ9ICg"
      },
      "outputs": [],
      "source": [
        "#\n",
        "\n",
        "Intro\n",
        "\n",
        "https://fs1.mediafile.cc/47877354948bf4f7/00_introduction.mp4?download_token=3f9ce7a650639f0ebdd31352c9dd49545a00cff732fa2cb4aa8d75be75dcd81c\n",
        "\n",
        "#"
      ]
    },
    {
      "cell_type": "markdown",
      "metadata": {
        "id": "1pMyXin7kwhb"
      },
      "source": [
        "Import"
      ]
    },
    {
      "cell_type": "code",
      "execution_count": null,
      "metadata": {
        "id": "k4DVre6_46HW"
      },
      "outputs": [],
      "source": [
        "!cp \"/content/file.ext\" \"/content/drive/MyDrive/Videos\""
      ]
    },
    {
      "cell_type": "code",
      "execution_count": null,
      "metadata": {
        "id": "aCKI_Wt0RCgP"
      },
      "outputs": [],
      "source": [
        "!cp -r \"/content/drive/MyDrive/Videos/[Gumroad] Cinematic Lighting in Blender by Gleb Alexandrov (Creative Shrimp).7z\" \"/content/root\""
      ]
    },
    {
      "cell_type": "code",
      "execution_count": null,
      "metadata": {
        "id": "TN5knyYd9o3K"
      },
      "outputs": [],
      "source": [
        "!mv \"/content/root/Resources.7z\" \"/content/drive/MyDrive/Videos/\""
      ]
    },
    {
      "cell_type": "code",
      "execution_count": null,
      "metadata": {
        "id": "5J5HVaErBa9I"
      },
      "outputs": [],
      "source": [
        "!mkdir /content/xiao"
      ]
    },
    {
      "cell_type": "markdown",
      "metadata": {
        "id": "24ajTrJnkzlU"
      },
      "source": [
        "Unzip"
      ]
    },
    {
      "cell_type": "code",
      "execution_count": null,
      "metadata": {
        "id": "6tDH58CYk3yh"
      },
      "outputs": [],
      "source": [
        "!unzip \"/content/drive/path/input_file_name.zip\" -d \"/content/drive/path/output_folder/\""
      ]
    },
    {
      "cell_type": "markdown",
      "metadata": {
        "id": "nmhPt_NN0qRA"
      },
      "source": [
        "Unrar"
      ]
    },
    {
      "cell_type": "code",
      "execution_count": null,
      "metadata": {
        "id": "ymxOW7ws0s41"
      },
      "outputs": [],
      "source": [
        "!unrar x \"/content/drive/MyDrive/file.rar\" \"/content/\""
      ]
    },
    {
      "cell_type": "code",
      "execution_count": null,
      "metadata": {
        "id": "f0oSXICtRNFS"
      },
      "outputs": [],
      "source": [
        "!unrar x \"/content/root/IH_Patron.rar\" \"/content/root\""
      ]
    },
    {
      "cell_type": "markdown",
      "metadata": {
        "id": "bUR9dbr81Fle"
      },
      "source": [
        "Zip"
      ]
    },
    {
      "cell_type": "code",
      "execution_count": null,
      "metadata": {
        "id": "EwBWhZbm1Hnw"
      },
      "outputs": [],
      "source": [
        "!zip -r \"/content/root.zip\" \"/content/root\""
      ]
    },
    {
      "cell_type": "markdown",
      "metadata": {
        "id": "j9tlOx8p1qL5"
      },
      "source": [
        "Rar"
      ]
    },
    {
      "cell_type": "code",
      "execution_count": null,
      "metadata": {
        "id": "GG-K80Qz1viT"
      },
      "outputs": [],
      "source": [
        "#Install Rar\n",
        "\n",
        "\n",
        "!apt-get install rar"
      ]
    },
    {
      "cell_type": "code",
      "execution_count": null,
      "metadata": {
        "id": "1OAGbvRa1-ux"
      },
      "outputs": [],
      "source": [
        "!rar a \"/content/drive/path/output_file_name\" \"/content/drive/path/input_file_or_folder\""
      ]
    },
    {
      "cell_type": "code",
      "execution_count": null,
      "metadata": {
        "id": "xPb1qTN16STd"
      },
      "outputs": [],
      "source": [
        "!rm -r /content/drive/MyDrive/Files/Fundamentals_Materials/Ch_06"
      ]
    },
    {
      "cell_type": "code",
      "execution_count": null,
      "metadata": {
        "cellView": "form",
        "colab": {
          "base_uri": "https://localhost:8080/"
        },
        "id": "4Cb8QESA5L6u",
        "outputId": "6121a0ca-bc36-49b4-97f4-b7ee11fc5c54"
      },
      "outputs": [
        {
          "name": "stdout",
          "output_type": "stream",
          "text": [
            "7-Zip (z) 23.01 (x64) : Copyright (c) 1999-2023 Igor Pavlov : 2023-06-20\n"
          ]
        }
      ],
      "source": [
        "#@markdown <br><center><img src='https://raw.githubusercontent.com/dropcreations/7zip-in-Google-Colab/main/assets/7-zip-Logo.png' height=\"50\" alt=\"7zip-logo\"/></center>\n",
        "#@markdown <center><h3><b>Install 7-Zip</b></h3></center><br>\n",
        "\n",
        "from IPython.display import clear_output\n",
        "\n",
        "!sudo curl -L https://www.7-zip.org/a/7z2301-linux-x64.tar.xz -o /usr/local/bin/7zip.tar.xz\n",
        "%cd /usr/local/bin/\n",
        "!7z e -y /usr/local/bin/7zip.tar.xz\n",
        "!7z x -y /usr/local/bin/7zip.tar 7zz\n",
        "!rm /usr/local/bin/7zip.tar.xz\n",
        "!rm /usr/local/bin/7zip.tar\n",
        "!sudo chmod +x /usr/local/bin/7zz\n",
        "clear_output()\n",
        "!7zz | sed -n 2p"
      ]
    },
    {
      "cell_type": "code",
      "execution_count": null,
      "metadata": {
        "cellView": "form",
        "id": "6JiL0KJodjTV"
      },
      "outputs": [],
      "source": [
        "import os\n",
        "\n",
        "sourceFile = \"/content/root/Ih.7z\" #@param {type:\"string\"}\n",
        "viewFile = False #@param {type:\"boolean\"}\n",
        "directoryNames = True #@param {type:\"boolean\"}\n",
        "saveToSourceLocation = True #@param {type:\"boolean\"}\n",
        "\n",
        "sourceName = os.path.splitext(os.path.basename(os.path.abspath(sourceFile)))[0]\n",
        "sourceFolder = os.path.dirname(os.path.abspath(sourceFile))\n",
        "\n",
        "if viewFile: commandLine = 'l \"' + sourceFile + '\"'\n",
        "else:\n",
        "    if saveToSourceLocation:\n",
        "            extractFolder = os.path.join(sourceFolder, sourceName)\n",
        "            if not os.path.exists(extractFolder):\n",
        "                os.makedirs(extractFolder, exist_ok=True)\n",
        "    if directoryNames: commandLine = 'x \"' + sourceFile + '\" -o\"' + extractFolder + '\"'\n",
        "    else: commandLine = 'e \"' + sourceFile + '\" -o\"' + extractFolder + '\"'\n",
        "\n",
        "!7zz {commandLine}"
      ]
    },
    {
      "cell_type": "code",
      "execution_count": null,
      "metadata": {
        "cellView": "form",
        "colab": {
          "base_uri": "https://localhost:8080/"
        },
        "id": "JS7LAdsiLMp-",
        "outputId": "c107b15b-bc74-4759-cc8c-db5a7f205c90"
      },
      "outputs": [
        {
          "output_type": "stream",
          "name": "stdout",
          "text": [
            "  % Total    % Received % Xferd  Average Speed   Time    Time     Time  Current\n",
            "                                 Dload  Upload   Total   Spent    Left  Speed\n",
            " 14  206M   14 29.8M    0     0   141k      0  0:24:58  0:03:36  0:21:22  142k"
          ]
        }
      ],
      "source": [
        "import os\n",
        "os.makedirs(f'root',exist_ok=True)\n",
        "\n",
        "# @title DOWNLOAD MODEL\n",
        "\n",
        "Model_url = 'https://mediafile.cc/9509922a2a49f0ba/materials-and-shading_textures.7z?download_token=424c04c7f95cab8d28df8d4a52dece6a370a6f10719d7ee4d83ff1318b70dc35'# @param {type:\"string\"}\n",
        "Model_name = '/content/root/textures.7z'# @param {type:\"string\"}\n",
        "\n",
        "!curl -Lo {Model_name} {Model_url}\n",
        "\n",
        "\n",
        "Model_url1= 'https://mediafile.cc/eb041e315cb8df68/materials-and-shading_source-files.7z?download_token=9d9cd381c9ac87a3156ddc39d32234297e489b4e77f56dc2162003c28a2d687b'# @param {type:\"string\"}\n",
        "Model_name1 = '/content/root/source-files.7z'# @param {type:\"string\"}\n",
        "\n",
        "!curl -Lo {Model_name1} {Model_url1}\n",
        "\n",
        "\n",
        "Model_url2= 'https://mediafile.cc/0abd59d397bc41b1/45_-_Bonus-_Animating_the_Material_Transformation_Effect.mp4?download_token=a1ccd216d172d3c3dddc14a686030c459a055452c2655a1465cbd1007151d4cf'# @param {type:\"string\"}\n",
        "Model_name2 = '/content/root/45.mp4'# @param {type:\"string\"}\n",
        "\n",
        "#!curl -Lo {Model_name2} {Model_url2}"
      ]
    },
    {
      "cell_type": "code",
      "execution_count": null,
      "metadata": {
        "cellView": "form",
        "colab": {
          "base_uri": "https://localhost:8080/"
        },
        "id": "R2Yyu4WdoSGD",
        "outputId": "d0eee708-6c65-47ac-91e3-37e60f5e40a2"
      },
      "outputs": [
        {
          "output_type": "stream",
          "name": "stdout",
          "text": [
            "  % Total    % Received % Xferd  Average Speed   Time    Time     Time  Current\n",
            "                                 Dload  Upload   Total   Spent    Left  Speed\n",
            "100 16.4M  100 16.4M    0     0   139k      0  0:02:00  0:02:00 --:--:--  140k\n"
          ]
        }
      ],
      "source": [
        "Model_url = 'https://mediafile.cc/69a3f87db39c3184/42_-_Creating_Group_Nodes.mp4?download_token=5696f44e6a91b47447c2f418a56d1ebc4e41882dc9b2c294b866be008e78b1d7'# @param {type:\"string\"}\n",
        "Model_name = '/content/root/42.mp4'# @param {type:\"string\"}\n",
        "\n",
        "!curl -Lo {Model_name} {Model_url}"
      ]
    },
    {
      "cell_type": "code",
      "execution_count": null,
      "metadata": {
        "cellView": "form",
        "id": "lYUe_xkL_RjT"
      },
      "outputs": [],
      "source": [
        "# @title COPY FILES\n",
        "\n",
        "From = '/content/Ch_06'# @param {type:\"string\"}\n",
        "To = '/content/drive/MyDrive/Files/Fundamentals_Materials'# @param {type:\"string\"}\n",
        "\n",
        "!cp -r {From} {To}"
      ]
    }
  ],
  "metadata": {
    "colab": {
      "provenance": [],
      "include_colab_link": true
    },
    "kernelspec": {
      "display_name": "Python 3",
      "name": "python3"
    },
    "language_info": {
      "name": "python"
    }
  },
  "nbformat": 4,
  "nbformat_minor": 0
}